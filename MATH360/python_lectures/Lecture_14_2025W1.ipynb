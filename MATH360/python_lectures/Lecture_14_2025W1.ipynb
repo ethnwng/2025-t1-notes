{
 "cells": [
  {
   "cell_type": "markdown",
   "id": "546ae77a-4259-4c9a-8f58-c6435bf0fea8",
   "metadata": {},
   "source": [
    "# Monte Carlo Methods\n",
    "\n",
    "### Last Class\n",
    "- Kernel Density Functions\n",
    "\n",
    "### Goals for Today\n",
    "- Define uncertainty analysis\n",
    "- Implement Monte Carlo uncertainty analysis in a mathematical model\n",
    "- Apply Monte Carlo uncertainty analysis to deterministic models"
   ]
  },
  {
   "cell_type": "markdown",
   "id": "7e9be5fd-ebc3-4e88-8560-81694c119af1",
   "metadata": {},
   "source": [
    "### Pre-Lecture Activities\n",
    "\n",
    "- Read the overview on Monte Carlo Uncertainty Analysis below."
   ]
  },
  {
   "cell_type": "code",
   "execution_count": 1,
   "id": "f9b89371-415b-4752-9ea5-f27acd8a618a",
   "metadata": {},
   "outputs": [
    {
     "name": "stdout",
     "output_type": "stream",
     "text": [
      "packages imported\n"
     ]
    }
   ],
   "source": [
    "#import packages\n",
    "import numpy as np\n",
    "import matplotlib.pyplot as plt\n",
    "import random\n",
    "from scipy.stats import norm\n",
    "import scipy.integrate as spi\n",
    "import scipy.optimize as spo\n",
    "%matplotlib inline\n",
    "\n",
    "\n",
    "print(\"packages imported\")"
   ]
  },
  {
   "cell_type": "markdown",
   "id": "09890fad-0f88-4b8a-9169-80dec2f5d057",
   "metadata": {},
   "source": [
    "### Monte Carlo Uncertainty Analysis Overview\n",
    "\n",
    "#### Preliminaries\n",
    "Many of the models we have discussed or simulated require input parameters, which are often measured quantities. Measured quantities are often said to have a level of uncertainty associated with them. Even if the measurement is *perfectly* done, there still exists an uncertainty with the result (e.g., perhaps the way we are measuring the quantity is inaccurate or the tools we are using to measure have uncertainty associated with them).\n",
    "\n",
    "For example, chemistry labs will often have a tabulated list of the lab equipment which includes the uncertainty associated with each device or in other words how \"accurate\" we can expect the measurement to be if it was *perfectly* done. A couple of instruments with different volumes are summarized below.\n",
    "\n",
    "|Instrument| Volume (mL) | Uncertainty (mL)|\n",
    "|----------|-------------|-----------------|\n",
    "|Volumetric Flask| 100 |$\\pm 0.08$ |\n",
    "|                | 50 | $\\pm 0.05$ |\n",
    "| Burette        | 25 | $\\pm 0.03$ |\n",
    "|                | 20 | $\\pm 0.02$ |\n",
    " \n",
    "Notice here that for each of these instruments, there is a $\\pm$ mL value that is associated with the measurement. This is the level of uncertainty associated with using such instruments in experiements -- so if we were using a volumetric flask to measure 100mL of solution, then our measurement is really $100 \\pm 0.08$mL.   \n",
    "\n",
    "The level of uncertainty can influence the output of any model we contruct.  We would like a method to investigate how uncertainty can affect modelling. This is where Monte Carlo Uncertainty Analysis comes in. \n",
    "\n",
    "#### Uncertainty Analysis\n",
    "One tactic that is generally implemented is to make multiple measurements of the same quantity.  The more times we can make measurements of a quantity the more precise we can be about the value.  One issue with this is that measuring a quantity multiple times may result in us getting a range of values for the quantity.\n",
    "\n",
    "Let's suppose we are measuring the distance between the HEBB and MATH buildings.  If we each take a measurement of the distance, we would find that we would end up with varying distance measurements. We could take our individual results and find the average of the values and the variance between the measurements, however, we still have a range of values for our measurement of the distance. Even if we are individually being careful with how we are taking the distance measurement, there is still some *random* error that is associated with our distance. (By random error here we mean that there will be measurements that both over- and underestimate the true value, and hence, on average will cancel out). If we were to take a lot of measurements (i.e., on the order of 100s or 1000s), we would see that the Law of Large numbers takes over, and our distribution of results will begin to look like a normal curve. *Here, it is important to note that we are only considering random errors here.  Non-random errors may lead to bias or non-normal results.*\n",
    "\n",
    "However, to make multiple measurements and form a distribution of the results may not be feasible for some settings.  In some instances, it can be time consuming and/or costly to recreate measurements, particularly in labs. This is where Monte Carlo comes in!  We know our measurements will have some uncertainty associated with them, and we want to determine how this uncertainty affects the output of the model.  The general strategy is outlined below.\n",
    "\n",
    "\n",
    "Let $x$ be the measured quantity with uncertainty $c$; i.e., $x \\pm c$. \n",
    "\n",
    "1. Define a random variable $\\hat{x} = x + \\varepsilon$, where $\\varepsilon$ is a normally distributed random variable with mean $0$ and standard deviation $c$. \n",
    "2. Solve the model with $\\hat{x}$.\n",
    "3. Repeat until the desired number of simulations is met. \n",
    "4. Visualize results. \n",
    "\n",
    "\n",
    "#### Example - Uncertainty in racecar velocity\n",
    "Suppose we wanted to calculate the velocity of a racecar using the formula $v = \\frac{d}{t}$, where $v$ is the velocity, $d$ is the distance, and $t$ is the time, and we have the following measurements:\n",
    "\n",
    "|quantity| value | uncertainty|\n",
    "|----------|-------------|-----------------|\n",
    "|distance| 54 m |$\\pm 1$ m|\n",
    "|  time  | 2 s | $\\pm 0.1$ s | \n",
    "\n",
    "Calculate the velocity of the racecar.  How do you think the uncertainty comes in to play in the velocity calculation? In class, we will simulate the uncertainty using Monte Carlo and compare it to our calculated value."
   ]
  },
  {
   "cell_type": "code",
   "execution_count": 2,
   "id": "6dc11462-cbdf-4fb4-8394-e4d4f1d32db5",
   "metadata": {},
   "outputs": [],
   "source": [
    "# define measured values\n",
    "\n",
    "d = 54\n",
    "t = 2\n",
    "# calculate velocity\n",
    "v = 54/2"
   ]
  },
  {
   "cell_type": "code",
   "execution_count": 3,
   "id": "7908aec7-d0ae-4c2b-93e5-4621109652c6",
   "metadata": {},
   "outputs": [],
   "source": [
    "# Apply monte carlo to see how uncertainty affects the velocity \n",
    "\n",
    "#uncertainty \n",
    "d_err = 1\n",
    "t_err = 0.1 \n",
    "\n",
    "#number of simulations\n",
    "N = 10000 \n",
    "\n",
    "#loc is mean, scale is st deviation\n",
    "#here we pick a mean of zero for the noise so that when the \"error\" is added to our constants\n",
    "#the average value of the parameter does not change\n",
    "#we pick the standard deviation to be equal to the size of the error, so that we can \"add\"\n",
    "#in the variation in the parameter's value due to the uncertainty\n",
    "d_mc = d + np.random.normal(loc=0.0, scale=d_err,size=N)\n",
    "t_mc = t + np.random.normal(loc=0.0, scale=t_err,size=N)\n",
    "\n",
    "v_mc = d_mc/t_mc"
   ]
  },
  {
   "cell_type": "code",
   "execution_count": 4,
   "id": "44103482-b533-485d-97b1-42f27eb78cf3",
   "metadata": {},
   "outputs": [
    {
     "data": {
      "image/png": "[encoded data removed]",
      "text/plain": [
       "<Figure size 640x480 with 1 Axes>"
      ]
     },
     "metadata": {},
     "output_type": "display_data"
    }
   ],
   "source": [
    "plt.hist(v_mc,bins = 20)\n",
    "plt.axvline(x = v, color = 'r') #vertical line for exact value\n",
    "plt.show()"
   ]
  },
  {
   "cell_type": "markdown",
   "id": "ac25400a-48ea-4955-8ab2-53be52c3ae4a",
   "metadata": {},
   "source": [
    "Here, we have created a distribution of the velocity of the racecar utilizing the known uncertainty in the measured quantities. Notice how the value we calculated without the uncertainty is sitting at the mean value. This is expected, since the values we used to calculate the velocity are *in the middle* of the uncertainty interval given (i.e., the uncertainty is normally distributed with **zero** mean). \n",
    "\n",
    "If we were to go and measure the velocity of the racecar under these conditions, we would find that on average the velocity would be 27 m/s.  However, given our distribution we may measure a velocity as high as 33 m/s or as low as 23 m/s!\n",
    "\n",
    "**Remarks**\n",
    "1. It is important to remember that all measured values have a level of uncertainty attributed to them.  Even computations performed by computers have uncertainty (depending on the number of bits and the program utilized).\n",
    "2. When modeling, we would like our models to be relatively insensitive to these types of errors.  However, this is not always the case.  Many models are sensitive to parameter uncertainty, and identifying which parameters contribute the most to the insensitivity is a key component of Analyzing and Assessing the model.\n",
    "3. We choose to simulate with $\\hat{x} = x + \\varepsilon$ and with $\\varepsilon$ normally distributed random variable with mean $0$ and standard deviation equal to the uncertainty level, $c$.  Choosing zero mean for the uncertainty is representative of the system behaving *on average* like the measured value (i.e., we are assuming no other sources of error).  Choosing the variance equal to the uncertainty allows us to see how variations affect the measured value.  We sample from a normal distribution under the assumption that it is equally likely to over- and underestimate a value. "
   ]
  },
  {
   "cell_type": "markdown",
   "id": "eaecba0e-237f-4d1d-8399-9bb4657449cb",
   "metadata": {},
   "source": [
    "### Applied Force Uncertainty Analysis\n",
    "\n",
    "Simulate the uncertainty in the force applied to a wall by throwing a ball against it.  Recall that $F = ma$, where $F$ is force, $m$ is mass, and $a$ is acceleration given by $a = \\dfrac{v}{t}$, with $v$ velocity and $t$ time.  We have the following information about the measurements:\n",
    "\n",
    "|quantity| value | uncertainty|\n",
    "|----------|-------------|-----------------|\n",
    "|mass| 0.055 kg |$\\pm 0.001$ kg|\n",
    "|velocity| 10 m/s |$\\pm 0.5$ m/s|\n",
    "|  time  | 5 s | $\\pm 1$ s |\n",
    "\n",
    "\n",
    "Simulate the uncertainty for $N=10000$ times. \n",
    "\n",
    "Determine which parameter is responsible for the largest amount of variance in the acceleration."
   ]
  },
  {
   "cell_type": "code",
   "execution_count": null,
   "id": "e0294afc-eb40-4391-9511-4407c072c522",
   "metadata": {},
   "outputs": [],
   "source": []
  },
  {
   "cell_type": "markdown",
   "id": "6e864877-1a81-4a21-afa6-7d7706484023",
   "metadata": {},
   "source": [
    "### Application to Deterministic Models\n",
    "\n",
    "Let's see how measurement uncertainty can affect the solution in deterministic modelling (i.e., differential equations)."
   ]
  },
  {
   "cell_type": "markdown",
   "id": "29731c84-e606-4f8d-baba-b83959673b1f",
   "metadata": {},
   "source": [
    "We have previously seen the Energy Balance Model when looking at Deterministic Models.  As a reminder, we have \n",
    "\n",
    "$$k \\frac{dT}{dt} = \\pi R^2Q(1-\\alpha(T)) - 4 \\pi R^2 \\sigma \\varepsilon T^4,$$\n",
    "\n",
    "where\n",
    "- $k$ is the heat capacity of the Earth (J/K)\n",
    "- $T$ is the temperature of the Earth (K)\n",
    "- $t$ is the time (s)\n",
    "- $R$ is the radius of the Earth (m)\n",
    "- $Q$ is the amount of solar energy that reaches the Earth's surface (s$^{-1}$ m$^{-2}$)\n",
    "- $\\alpha(T)$ is the albedo of the Earth and is unitless\n",
    "- $\\sigma$ is the Stefan-Boltzmann constant (W/(m$^2$K$^4$) ) \n",
    "- $\\varepsilon$ is the emissivity and is unitless\n",
    "\n",
    "For the albedo, we had two possible functions (which gave rise to two different Energy Balance Models):\n",
    "$$\\alpha_1(T) = 0.3$$ \n",
    "or \n",
    "$$\\alpha_2(T)=\n",
    "\\begin{cases}\n",
    "0.7, T \\leq 247 K\\\\\n",
    "3.52296-0.011429T, 247 < T  < 282 K \\\\\n",
    "0.3, T \\geq 282 K\n",
    "\\end{cases}$$\n",
    "\n",
    "We also know the following information about the uncertainty of the constant values:\n",
    "|Constant| Value|Uncertainty| \n",
    "|--------|------|-----------|\n",
    "|$k$      | $1.0 \\times 10^{23}$ J/K| $\\pm 0.22 \\times 10^{9}$ J/K|\n",
    "|$R$      | $6.3781 \\times 10^6$  m| $\\pm 10$ m|\n",
    "|$Q$      | $1365$    W/(s m$^2$)| $\\pm 27.3$ W/(s m$^2$)|\n",
    "|$\\sigma$ | $5.6704 \\times 10^{-8}$ W/(m$^2$K$^4$) | $\\pm 0.000021 \\times 10^{-8}$ W/(m$^2$K$^4$)|\n",
    "\n",
    "Let's see how to incorporate the uncertainty in to the model and the effects on the solutions."
   ]
  },
  {
   "cell_type": "code",
   "execution_count": 5,
   "id": "e46de0eb-4c29-4b71-bc7e-3a5f8e5ca1a7",
   "metadata": {
    "tags": []
   },
   "outputs": [],
   "source": [
    "## Let's look at the energy balance equation with \\alpha_1(T) \n",
    "eps = 0.622\n",
    "alpha = 0.3\n",
    "\n",
    "f = lambda T,t: (np.pi*R**2*Q*(1 - alpha) - 4*np.pi*R**2*eps*sigma*T**4)/k\n",
    "t = np.linspace(0,1e9,100)\n",
    "\n",
    "T0 = 267\n",
    "\n",
    "## generate deterministic solution\n",
    "Q = 1365 \n",
    "R = 6.3781e6 \n",
    "k = 1e23 \n",
    "sigma = 5.670374419e-8 \n",
    "T_determin = spi.odeint(f,T0,t)\n",
    "t_determin = t"
   ]
  },
  {
   "cell_type": "code",
   "execution_count": null,
   "id": "bc5691b4",
   "metadata": {},
   "outputs": [],
   "source": []
  },
  {
   "cell_type": "markdown",
   "id": "5b53ace2-8a7c-4555-ae2f-910e44a2a8e7",
   "metadata": {},
   "source": [
    "### Energy Balance Model Uncertainty Analysis\n",
    "\n",
    "Add uncertainty to the Energy Balance Model with $\\alpha_2(T)$. Use an initial temperature of $267$.  How does the result change when $\\alpha_1(T)$ is replaced with $\\alpha_2(T)$."
   ]
  },
  {
   "cell_type": "code",
   "execution_count": 6,
   "id": "7f001a7f-4a57-4a8c-8fe6-e72e0fca9200",
   "metadata": {
    "tags": []
   },
   "outputs": [
    {
     "data": {
      "image/png": "[encoded data removed]",
      "text/plain": [
       "<Figure size 640x480 with 1 Axes>"
      ]
     },
     "metadata": {},
     "output_type": "display_data"
    }
   ],
   "source": [
    "temp = [200,255,290,340]\n",
    "albedo = [0.6,0.6,0.2,0.2]\n",
    "plt.plot(temp,albedo,'b.-'), plt.ylim([0,1]), plt.grid(True)\n",
    "plt.show()"
   ]
  },
  {
   "cell_type": "code",
   "execution_count": 7,
   "id": "6d40c3a3-d925-4a76-a4e0-a4a529efbae5",
   "metadata": {
    "tags": []
   },
   "outputs": [],
   "source": [
    "## Deterministic solution\n",
    "t = np.linspace(0,1e9,100)\n",
    "alpha = lambda T: np.interp(T,temp,albedo)\n",
    "f1 = lambda T,t: (np.pi*R**2*Q*(1 - alpha(T)) - 4*np.pi*R**2*eps*sigma*T**4)/k\n",
    "\n",
    "T0 = 267\n",
    "\n",
    "## generate deterministic solution\n",
    "Q = 1365 \n",
    "R = 6.3781e6 \n",
    "k = 1e23 \n",
    "sigma = 5.670374419e-8 \n",
    "T_determin1 = spi.odeint(f1,T0,t)\n",
    "t_determin1 = t"
   ]
  },
  {
   "cell_type": "code",
   "execution_count": null,
   "id": "15c4531e-5ccf-45c1-b61b-40ea6a778fbf",
   "metadata": {},
   "outputs": [],
   "source": []
  },
  {
   "cell_type": "markdown",
   "id": "b74c9768-6f6e-4ac9-a766-b96142b6eb3e",
   "metadata": {},
   "source": [
    "### Energy Balance Model Uncertainty Analysis 2\n",
    "\n",
    "Add uncertainty to the Energy Balance Model's initial temperature using $\\alpha_2(T)$.  For this task use $267 \\pm 1$ K  How does the result change as the uncertainty is increased?"
   ]
  },
  {
   "cell_type": "code",
   "execution_count": null,
   "id": "6fab9e64-7419-4638-afc0-61492c55b5b7",
   "metadata": {},
   "outputs": [],
   "source": []
  }
 ],
 "metadata": {
  "kernelspec": {
   "display_name": "Python 3 (ipykernel)",
   "language": "python",
   "name": "python3"
  },
  "language_info": {
   "codemirror_mode": {
    "name": "ipython",
    "version": 3
   },
   "file_extension": ".py",
   "mimetype": "text/x-python",
   "name": "python",
   "nbconvert_exporter": "python",
   "pygments_lexer": "ipython3",
   "version": "3.13.5"
  }
 },
 "nbformat": 4,
 "nbformat_minor": 5
}
