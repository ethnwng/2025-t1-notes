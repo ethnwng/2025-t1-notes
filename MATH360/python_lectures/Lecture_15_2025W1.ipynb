{
 "cells": [
  {
   "cell_type": "markdown",
   "id": "803e03a4-dfc2-4849-9785-0f5f64158c49",
   "metadata": {},
   "source": [
    "# Stochastic Modelling Examples"
   ]
  },
  {
   "cell_type": "code",
   "execution_count": 1,
   "id": "1d563aa6-b2ba-4185-ab19-326705e4ce3a",
   "metadata": {
    "tags": []
   },
   "outputs": [
    {
     "name": "stdout",
     "output_type": "stream",
     "text": [
      "packages imported\n"
     ]
    }
   ],
   "source": [
    "import numpy as np\n",
    "import matplotlib.pyplot as plt\n",
    "import scipy.stats as stats\n",
    "import random\n",
    "from scipy.stats import norm\n",
    "import scipy.stats as stats\n",
    "import pandas as pd\n",
    "%matplotlib inline\n",
    "\n",
    "print(\"packages imported\")"
   ]
  },
  {
   "cell_type": "markdown",
   "id": "89765fcd-d355-4860-86d2-a50ffd984445",
   "metadata": {},
   "source": [
    "### Last Class\n",
    "- Monte Carlo Uncertainty Analysis\n",
    "\n",
    "### Goals for Today\n",
    "- Construct mathematical models for Stochastic problems\n",
    "- Perform Monte Carlo and Monte Carlo Uncertainty analysis\n",
    "\n",
    "### Pre-Lecture Activities\n",
    "- Review the [pandas library](https://pandas.pydata.org/docs/user_guide/index.html). and how to import a dataset, pull out specific rows and columns, merge, min/max/mean/median/variance and other statistics, etc.\n",
    "\n",
    "- Read the documentation on the [gaussian_kde](https://docs.scipy.org/doc/scipy/reference/generated/scipy.stats.gaussian_kde.html) package in python, including the functions [.resample](https://docs.scipy.org/doc/scipy/reference/generated/scipy.stats.gaussian_kde.resample.html#scipy.stats.gaussian_kde.resample) and [.integrate_box_1d](https://docs.scipy.org/doc/scipy/reference/generated/scipy.stats.gaussian_kde.integrate_box_1d.html#scipy.stats.gaussian_kde.integrate_box_1d).\n",
    "\n",
    "- If you would like a dataset to practice on, there are freely available datasets on [kaggle](https://www.kaggle.com/datasets)."
   ]
  },
  {
   "cell_type": "markdown",
   "id": "711acae2-a424-4662-affa-7fc0cb320607",
   "metadata": {},
   "source": [
    "## Pumpkin Patch\n",
    "\n",
    "Suppose you own a pumpkin patch and know the following information about daily income and costs for the month of October:\n",
    "- the quantity of pumpkins that each customer buys is equal to $\\beta_1$, where $\\beta_1 = 3 \\pm 1$\n",
    "- the price of each pumpkin is determined by weight and is equal to $\\beta_2$, where $\\beta_2 = 3 \\pm 1.5$\n",
    "- the number of customers on a given day is equal to $\\beta_3t^2$, where $\\beta_3 = 5 \\pm 2$\n",
    "- the costs associated with growing pumpkins is equal to $-\\beta_4 t $, where $\\beta_4 = 2.35 \\pm 0.65$\n",
    "- the total maintenance costs associated with maintaining the equipment needed to grow the pumpkins is equal to $- \\beta_5t^{0.5}$, where $\\beta_5 = 1.55 \\pm 0.65$ (i.e., as the usage increases over the month of October, we have more maintenance costs to maintain the equipment)\n",
    "\n",
    "Note $t$ here is time, which is measured in days, with $t=0$ corresponding to October $1$ and $t=30$ corresponding to October $31$. \n",
    "\n",
    "Construct a mathematical model for the net income of the pumpkin patch."
   ]
  },
  {
   "cell_type": "code",
   "execution_count": null,
   "id": "4c6136c9-4227-41c9-90ae-46391e776513",
   "metadata": {},
   "outputs": [],
   "source": []
  },
  {
   "cell_type": "markdown",
   "id": "d96566b6-ac89-42a7-a787-46d69a9b88ce",
   "metadata": {},
   "source": [
    "## Transit Trip Duration\n",
    "\n",
    "A student is commuting from Richmond to UBC by public transit. They take the SkyTrain from Bridgeport station to City Hall station and then the 99 bus from City Hall station to campus. The train is scheduled to come every 3 minutes and the trip usually takes 13 minutes. The bus comes every 5 minutes and the trip usually takes 29 minutes. We don't know exactly the variance of each trip and so we want to construct a mathematical model of the total trip for different  variance values and see how that changes the variance of the total duration. In particular, we want to find bounds on the variances which guarantee that the total trip duration is less than an hour at least 90% of the time.\n",
    "\n",
    "See the [TransLink Schedule](https://www.translink.ca/schedules-and-maps)."
   ]
  },
  {
   "cell_type": "code",
   "execution_count": null,
   "id": "a7df6cce-cd58-4186-9905-af1fbe92c1bb",
   "metadata": {},
   "outputs": [],
   "source": []
  },
  {
   "cell_type": "markdown",
   "id": "be93a088-be70-4ad3-9328-1837b34ff87d",
   "metadata": {},
   "source": [
    "## Additional examples.\n",
    "\n",
    "The following two example problems have some parts that have been filled in already and some directional statements to help guide the model construction and analysis."
   ]
  },
  {
   "cell_type": "markdown",
   "id": "b48cc7bc-0fed-41c4-a89a-835a574b43d6",
   "metadata": {},
   "source": [
    "## Stock Data\n",
    "\n",
    "Stock price data for Apple Inc. is available at [nasdaq.com](https://www.nasdaq.com/market-activity/stocks/aapl/historical). The file `apple_stock.csv` includes price data from 2018 to 2023. Let $X$ be the daily gain given by the fraction (close - open)/open. Find the distribution of $X$ and use the distribution to create a new random variable which is the yearly gain:\n",
    "\n",
    "$$\n",
    "Y = \\prod_{i=1}^{252} (1 + X_i) - 1\n",
    "$$\n",
    "\n",
    "where $X_i$ is the gain on day $i$ and each $X_i \\sim N(\\mu,\\sigma^2)$ for the $\\mu$ and $\\sigma$ computed from the data. Find the distribution of $Y$ and compute the probability that Apple stock will gain more than 10% per year.\n",
    "\n",
    "Note: there are usually 252 trading days in a year."
   ]
  },
  {
   "cell_type": "markdown",
   "id": "79f0fe8d-3da6-48ea-897c-c6d97cb6ac7c",
   "metadata": {},
   "source": [
    "**Problem Statement:**\n",
    "\n",
    "What is the probability distribution of the daily gains of apple from 2018 to 2023?\n",
    "\n",
    "Construct the distribution of yearly gain over 252 days and determine the probability that apple stock will gain more than 10%"
   ]
  },
  {
   "cell_type": "markdown",
   "id": "cb93d090-47e1-4008-bdf7-486750765257",
   "metadata": {},
   "source": [
    "**Variables and Parameters:**\n",
    "\n",
    "| Description | Symbol | Dimensions | Type |\n",
    "| :---: | :---: | :---: | :---: |\n",
    "| daily gain | $X$ | 1 | normal random variable |\n",
    "| yearly gain | $Y$ | 1 | random variable (function of $X_1,\\dots,X_{252}$) |\n",
    "|  mean of daily gain | $\\mu$ | 1 | parameter |\n",
    "|  variance of daily gain | $\\sigma^2$ | 1 | parameter |\n",
    "|  probability | $p$ | 1 | variable (model output) |\n",
    "\n",
    "\n",
    "**Assumptions and Constraints:**\n",
    "\n",
    "* Daily gain $X$ is normally distributed\n",
    "* Daily gain $X_1,X_2,\\dots,X_{252}$ are independent\n",
    "* Only 252 trading days, ignoring leap years"
   ]
  },
  {
   "cell_type": "markdown",
   "id": "f609e75f-0330-4653-a2c5-59f075aeacdd",
   "metadata": {},
   "source": [
    "**Build Solutions:**\n",
    "\n",
    "*Import Data*\n",
    "\n",
    "The code below imports the data as a pandas dataframe."
   ]
  },
  {
   "cell_type": "code",
   "execution_count": 16,
   "id": "45d4f7f8-0d1f-470e-9590-db701fcf004f",
   "metadata": {
    "tags": []
   },
   "outputs": [],
   "source": [
    "df = pd.read_csv('DATA/apple_stock.csv')"
   ]
  },
  {
   "cell_type": "code",
   "execution_count": 17,
   "id": "4ee9b630-2c98-47b6-8e82-bdb4d94d44a4",
   "metadata": {
    "tags": []
   },
   "outputs": [
    {
     "data": {
      "text/plain": [
       "pandas.core.frame.DataFrame"
      ]
     },
     "execution_count": 17,
     "metadata": {},
     "output_type": "execute_result"
    }
   ],
   "source": [
    "type(df)"
   ]
  },
  {
   "cell_type": "markdown",
   "id": "2db1814b-00e2-4898-a479-3c8df504d463",
   "metadata": {},
   "source": [
    "Use the methods `df.head()` and `df.tail()` to view the first/last 5 rows of `df`. What are the first and last trading days in the dataset? How many days are in the dataset?"
   ]
  },
  {
   "cell_type": "code",
   "execution_count": 18,
   "id": "4ea2cca2-95c7-4796-b2f1-7b5c90d17efc",
   "metadata": {},
   "outputs": [
    {
     "data": {
      "text/plain": [
       "(   year  month  day    open   close    high     low\n",
       " 0  2023     10   23  170.91  173.00  174.01  169.93\n",
       " 1  2023     10   20  175.31  172.88  175.42  172.64\n",
       " 2  2023     10   19  176.04  175.46  177.84  175.19\n",
       " 3  2023     10   18  175.58  175.84  177.58  175.11\n",
       " 4  2023     10   17  176.65  177.15  178.42  174.80,\n",
       "       year  month  day   open  close   high    low\n",
       " 1252  2018     10   30  52.79  53.33  53.80  52.32\n",
       " 1253  2018     10   29  54.80  53.06  54.92  51.52\n",
       " 1254  2018     10   26  53.98  54.08  55.05  53.17\n",
       " 1255  2018     10   25  54.43  54.95  55.35  54.19\n",
       " 1256  2018     10   24  55.65  53.77  56.06  53.64)"
      ]
     },
     "execution_count": 18,
     "metadata": {},
     "output_type": "execute_result"
    }
   ],
   "source": [
    "df.head(), df.tail()"
   ]
  },
  {
   "cell_type": "markdown",
   "id": "b8febd74-e582-4518-8381-a145a5685903",
   "metadata": {},
   "source": [
    "*Compute $X$:*\n",
    "\n",
    "Access a column in the dataframe with the command `df[column_name]`. For example:"
   ]
  },
  {
   "cell_type": "code",
   "execution_count": 19,
   "id": "85c826d2-a29a-4efe-b8af-f90aa5eee4e1",
   "metadata": {
    "tags": []
   },
   "outputs": [
    {
     "data": {
      "text/plain": [
       "0    174.01\n",
       "1    175.42\n",
       "2    177.84\n",
       "3    177.58\n",
       "4    178.42\n",
       "Name: high, dtype: float64"
      ]
     },
     "execution_count": 19,
     "metadata": {},
     "output_type": "execute_result"
    }
   ],
   "source": [
    "df['high'].head()"
   ]
  },
  {
   "cell_type": "markdown",
   "id": "5ef3086d-5d9b-4b10-a0d3-5a20fabfc282",
   "metadata": {},
   "source": [
    "Create new columns with the same syntax. For example, let's compute the daily range:"
   ]
  },
  {
   "cell_type": "code",
   "execution_count": 20,
   "id": "4c41ed25-b484-40c8-aba0-f6f37d7ac418",
   "metadata": {
    "tags": []
   },
   "outputs": [],
   "source": [
    "df['range'] = df['high'] - df['low']"
   ]
  },
  {
   "cell_type": "code",
   "execution_count": 21,
   "id": "f389bc0d-3f1c-4f0f-9015-20174f206dbe",
   "metadata": {
    "tags": []
   },
   "outputs": [
    {
     "data": {
      "text/html": [
       "<div>\n",
       "<style scoped>\n",
       "    .dataframe tbody tr th:only-of-type {\n",
       "        vertical-align: middle;\n",
       "    }\n",
       "\n",
       "    .dataframe tbody tr th {\n",
       "        vertical-align: top;\n",
       "    }\n",
       "\n",
       "    .dataframe thead th {\n",
       "        text-align: right;\n",
       "    }\n",
       "</style>\n",
       "<table border=\"1\" class=\"dataframe\">\n",
       "  <thead>\n",
       "    <tr style=\"text-align: right;\">\n",
       "      <th></th>\n",
       "      <th>year</th>\n",
       "      <th>month</th>\n",
       "      <th>day</th>\n",
       "      <th>open</th>\n",
       "      <th>close</th>\n",
       "      <th>high</th>\n",
       "      <th>low</th>\n",
       "      <th>range</th>\n",
       "    </tr>\n",
       "  </thead>\n",
       "  <tbody>\n",
       "    <tr>\n",
       "      <th>0</th>\n",
       "      <td>2023</td>\n",
       "      <td>10</td>\n",
       "      <td>23</td>\n",
       "      <td>170.91</td>\n",
       "      <td>173.00</td>\n",
       "      <td>174.01</td>\n",
       "      <td>169.93</td>\n",
       "      <td>4.08</td>\n",
       "    </tr>\n",
       "    <tr>\n",
       "      <th>1</th>\n",
       "      <td>2023</td>\n",
       "      <td>10</td>\n",
       "      <td>20</td>\n",
       "      <td>175.31</td>\n",
       "      <td>172.88</td>\n",
       "      <td>175.42</td>\n",
       "      <td>172.64</td>\n",
       "      <td>2.78</td>\n",
       "    </tr>\n",
       "    <tr>\n",
       "      <th>2</th>\n",
       "      <td>2023</td>\n",
       "      <td>10</td>\n",
       "      <td>19</td>\n",
       "      <td>176.04</td>\n",
       "      <td>175.46</td>\n",
       "      <td>177.84</td>\n",
       "      <td>175.19</td>\n",
       "      <td>2.65</td>\n",
       "    </tr>\n",
       "    <tr>\n",
       "      <th>3</th>\n",
       "      <td>2023</td>\n",
       "      <td>10</td>\n",
       "      <td>18</td>\n",
       "      <td>175.58</td>\n",
       "      <td>175.84</td>\n",
       "      <td>177.58</td>\n",
       "      <td>175.11</td>\n",
       "      <td>2.47</td>\n",
       "    </tr>\n",
       "    <tr>\n",
       "      <th>4</th>\n",
       "      <td>2023</td>\n",
       "      <td>10</td>\n",
       "      <td>17</td>\n",
       "      <td>176.65</td>\n",
       "      <td>177.15</td>\n",
       "      <td>178.42</td>\n",
       "      <td>174.80</td>\n",
       "      <td>3.62</td>\n",
       "    </tr>\n",
       "  </tbody>\n",
       "</table>\n",
       "</div>"
      ],
      "text/plain": [
       "   year  month  day    open   close    high     low  range\n",
       "0  2023     10   23  170.91  173.00  174.01  169.93   4.08\n",
       "1  2023     10   20  175.31  172.88  175.42  172.64   2.78\n",
       "2  2023     10   19  176.04  175.46  177.84  175.19   2.65\n",
       "3  2023     10   18  175.58  175.84  177.58  175.11   2.47\n",
       "4  2023     10   17  176.65  177.15  178.42  174.80   3.62"
      ]
     },
     "execution_count": 21,
     "metadata": {},
     "output_type": "execute_result"
    }
   ],
   "source": [
    "df.head()"
   ]
  },
  {
   "cell_type": "markdown",
   "id": "a3d65a7c-3ea8-4b37-9e50-34919691e359",
   "metadata": {},
   "source": [
    "Create a new column for the daily gain $X$ given by (close - open)/open. Plot the histogram of $X$, and compute $\\mu_X$ and $\\sigma_X^2$."
   ]
  },
  {
   "cell_type": "code",
   "execution_count": 22,
   "id": "3c5f5e38-96e2-4b71-83f7-95900c07ded0",
   "metadata": {},
   "outputs": [],
   "source": [
    "df['X'] = (df['close'] - df['open'])/df['open']"
   ]
  },
  {
   "cell_type": "code",
   "execution_count": 23,
   "id": "571cf8fd",
   "metadata": {},
   "outputs": [
    {
     "data": {
      "text/plain": [
       "(0.0010849260709015528, 0.01563501984638611)"
      ]
     },
     "execution_count": 23,
     "metadata": {},
     "output_type": "execute_result"
    }
   ],
   "source": [
    "mu = df['X'].mean()\n",
    "std_dv = df['X'].std()\n",
    "mu, std_dv"
   ]
  },
  {
   "cell_type": "code",
   "execution_count": 24,
   "id": "b8920f9e",
   "metadata": {},
   "outputs": [
    {
     "data": {
      "text/plain": [
       "(array([ 0.28567043,  0.        ,  0.        ,  0.        ,  0.        ,\n",
       "         0.28567043,  0.        ,  0.        ,  0.        ,  1.1426817 ,\n",
       "         0.85701128,  1.99969298,  1.71402255,  0.85701128,  3.14237468,\n",
       "         3.99938596,  4.28505638,  4.85639723,  8.85578319,  8.57011276,\n",
       "         9.99846489, 13.14083957, 17.71156638, 23.13930446, 27.99570169,\n",
       "        28.28137212, 31.99508765, 27.99570169, 26.28167914, 23.13930446,\n",
       "        23.99631574, 17.14022553, 12.56949872,  9.99846489,  6.57041979,\n",
       "         5.42773808,  3.71371553,  2.2853634 ,  1.1426817 ,  0.57134085,\n",
       "         0.85701128,  0.57134085,  1.1426817 ,  0.57134085,  0.28567043,\n",
       "         0.28567043,  0.        ,  0.85701128,  0.28567043,  0.28567043]),\n",
       " array([-0.07265372, -0.06986889, -0.06708405, -0.06429922, -0.06151438,\n",
       "        -0.05872955, -0.05594471, -0.05315988, -0.05037504, -0.04759021,\n",
       "        -0.04480537, -0.04202054, -0.0392357 , -0.03645087, -0.03366603,\n",
       "        -0.0308812 , -0.02809636, -0.02531153, -0.02252669, -0.01974186,\n",
       "        -0.01695703, -0.01417219, -0.01138736, -0.00860252, -0.00581769,\n",
       "        -0.00303285, -0.00024802,  0.00253682,  0.00532165,  0.00810649,\n",
       "         0.01089132,  0.01367616,  0.01646099,  0.01924583,  0.02203066,\n",
       "         0.0248155 ,  0.02760033,  0.03038517,  0.03317   ,  0.03595484,\n",
       "         0.03873967,  0.04152451,  0.04430934,  0.04709418,  0.04987901,\n",
       "         0.05266385,  0.05544868,  0.05823351,  0.06101835,  0.06380318,\n",
       "         0.06658802]),\n",
       " <BarContainer object of 50 artists>)"
      ]
     },
     "execution_count": 24,
     "metadata": {},
     "output_type": "execute_result"
    },
    {
     "data": {
      "image/png": "[encoded data removed]",
      "text/plain": [
       "<Figure size 640x480 with 1 Axes>"
      ]
     },
     "metadata": {},
     "output_type": "display_data"
    }
   ],
   "source": [
    "plt.hist(df['X'], bins=50, density=True, alpha=0.5, edgecolor='b')"
   ]
  },
  {
   "cell_type": "markdown",
   "id": "1213fa88-46a1-4168-a11b-e9fd8680a5b3",
   "metadata": {},
   "source": [
    "*Distribution of $X$:*\n",
    "\n",
    "We assume that $X$ is normally distributed. Use $\\mu_X$ and $\\sigma_X^2$ computed above to plot the probability density function of $X$. Plot the histogram of $X$ values in the same figure to verify they match."
   ]
  },
  {
   "cell_type": "code",
   "execution_count": 25,
   "id": "52ebb73d-bf28-46b5-bcb6-6b91008e5aa2",
   "metadata": {},
   "outputs": [
    {
     "data": {
      "text/plain": [
       "(array([ 0.96500038,  0.        ,  0.        ,  0.        ,  0.        ,\n",
       "         0.96500038,  0.48250019,  0.96500038,  0.48250019,  3.86000151,\n",
       "         0.        ,  0.96500038,  2.41250094,  1.93000076,  8.20250321,\n",
       "         3.86000151,  4.82500189,  8.6850034 ,  8.6850034 , 13.51000529,\n",
       "        17.3700068 , 17.85250699, 20.74750812, 20.74750812, 16.88750661,\n",
       "        23.16000907, 28.95001133, 27.02001058, 27.98501096, 23.64250926,\n",
       "        21.7125085 , 24.60750963, 21.7125085 , 22.19500869, 24.12500945,\n",
       "        16.40500642, 11.58000453, 14.95750586, 10.13250397,  7.23750283,\n",
       "         3.86000151,  5.30750208,  2.89500113,  2.41250094,  1.44750057,\n",
       "         0.96500038,  1.93000076,  1.93000076,  0.48250019,  1.44750057]),\n",
       " array([-0.05762998, -0.05555744, -0.0534849 , -0.05141237, -0.04933983,\n",
       "        -0.04726729, -0.04519475, -0.04312221, -0.04104968, -0.03897714,\n",
       "        -0.0369046 , -0.03483206, -0.03275952, -0.03068699, -0.02861445,\n",
       "        -0.02654191, -0.02446937, -0.02239683, -0.0203243 , -0.01825176,\n",
       "        -0.01617922, -0.01410668, -0.01203414, -0.00996161, -0.00788907,\n",
       "        -0.00581653, -0.00374399, -0.00167145,  0.00040108,  0.00247362,\n",
       "         0.00454616,  0.0066187 ,  0.00869124,  0.01076377,  0.01283631,\n",
       "         0.01490885,  0.01698139,  0.01905393,  0.02112647,  0.023199  ,\n",
       "         0.02527154,  0.02734408,  0.02941662,  0.03148916,  0.03356169,\n",
       "         0.03563423,  0.03770677,  0.03977931,  0.04185185,  0.04392438,\n",
       "         0.04599692]),\n",
       " <BarContainer object of 50 artists>)"
      ]
     },
     "execution_count": 25,
     "metadata": {},
     "output_type": "execute_result"
    },
    {
     "data": {
      "image/png": "[encoded data removed]",
      "text/plain": [
       "<Figure size 640x480 with 1 Axes>"
      ]
     },
     "metadata": {},
     "output_type": "display_data"
    }
   ],
   "source": [
    "X = np.random.normal(mu, std_dv, 1000)\n",
    "plt.hist(X, bins=50, density=True, alpha=0.5, color='r', edgecolor='b')"
   ]
  },
  {
   "cell_type": "markdown",
   "id": "cdc272e3-3fcc-4cde-ac22-e3d4ef993e44",
   "metadata": {},
   "source": [
    "*Random Samples of $Y$*\n",
    "\n",
    "We can generate random samples of $Y$ by generating $252$ random samples of $X$ and then computing\n",
    "\n",
    "$$\n",
    "Y = \\prod_{i=1}^{252} (1 + X_i) - 1\n",
    "$$\n",
    "\n",
    "Use the function `np.prod` to compute the product. Generate $2000$ samples of $Y$, plot the histogram and compute the mean and variance."
   ]
  },
  {
   "cell_type": "code",
   "execution_count": 43,
   "id": "94fff45e-3336-4b79-97b4-9b9fc2a6cf89",
   "metadata": {},
   "outputs": [],
   "source": [
    "y = lambda x: np.prod(1 + x) - 1\n",
    "\n",
    "def Y(n):\n",
    "    results = []\n",
    "    for i in range(n):\n",
    "        Xi = np.random.normal(mu, std_dv, 252)\n",
    "        results.append(y(Xi))\n",
    "    return results"
   ]
  },
  {
   "cell_type": "code",
   "execution_count": 44,
   "id": "103c61e7",
   "metadata": {},
   "outputs": [
    {
     "data": {
      "text/plain": [
       "(array([0.03406486, 0.04541981, 0.10219457, 0.11354953, 0.20438915,\n",
       "        0.4314882 , 0.57910259, 0.57910259, 0.72671697, 1.02194574,\n",
       "        0.95381602, 1.12414031, 1.21497993, 1.45343394, 1.31717451,\n",
       "        1.26039974, 1.13549527, 1.20362498, 1.13549527, 1.24904479,\n",
       "        0.94246107, 0.89704126, 0.77213678, 0.63587735, 0.56774763,\n",
       "        0.4314882 , 0.36335848, 0.38606839, 0.32929363, 0.22709905,\n",
       "        0.31793867, 0.1930342 , 0.22709905, 0.17032429, 0.05677476,\n",
       "        0.01135495, 0.06812972, 0.03406486, 0.05677476, 0.02270991,\n",
       "        0.01135495, 0.02270991, 0.04541981, 0.01135495, 0.        ,\n",
       "        0.        , 0.01135495, 0.        , 0.        , 0.01135495]),\n",
       " array([-0.44433151, -0.40029786, -0.35626421, -0.31223056, -0.26819691,\n",
       "        -0.22416326, -0.18012961, -0.13609597, -0.09206232, -0.04802867,\n",
       "        -0.00399502,  0.04003863,  0.08407228,  0.12810593,  0.17213958,\n",
       "         0.21617323,  0.26020688,  0.30424053,  0.34827417,  0.39230782,\n",
       "         0.43634147,  0.48037512,  0.52440877,  0.56844242,  0.61247607,\n",
       "         0.65650972,  0.70054337,  0.74457702,  0.78861066,  0.83264431,\n",
       "         0.87667796,  0.92071161,  0.96474526,  1.00877891,  1.05281256,\n",
       "         1.09684621,  1.14087986,  1.18491351,  1.22894715,  1.2729808 ,\n",
       "         1.31701445,  1.3610481 ,  1.40508175,  1.4491154 ,  1.49314905,\n",
       "         1.5371827 ,  1.58121635,  1.62525   ,  1.66928365,  1.71331729,\n",
       "         1.75735094]),\n",
       " <BarContainer object of 50 artists>)"
      ]
     },
     "execution_count": 44,
     "metadata": {},
     "output_type": "execute_result"
    },
    {
     "data": {
      "image/png": "[encoded data removed]",
      "text/plain": [
       "<Figure size 640x480 with 1 Axes>"
      ]
     },
     "metadata": {},
     "output_type": "display_data"
    }
   ],
   "source": [
    "Y_mc = Y(2000)\n",
    "plt.hist(Y_mc, bins=50, density=True, alpha=0.5, edgecolor='b')"
   ]
  },
  {
   "cell_type": "markdown",
   "id": "97c9fbe0-0e3f-49b4-b9a2-2a91065f263f",
   "metadata": {},
   "source": [
    "*Kernel Density Function*\n",
    "\n",
    "Compute the kernel density estimation of $Y$ and plot the result with the samples of $Y$ generated above."
   ]
  },
  {
   "cell_type": "code",
   "execution_count": 49,
   "id": "8e6c649e-e0ff-4c1e-a324-1d50d9e37276",
   "metadata": {},
   "outputs": [
    {
     "data": {
      "image/png": "[encoded data removed]",
      "text/plain": [
       "<Figure size 640x480 with 1 Axes>"
      ]
     },
     "metadata": {},
     "output_type": "display_data"
    }
   ],
   "source": [
    "kde = stats.gaussian_kde(Y_mc)\n",
    "plt.hist(Y_mc, bins=50, density=True, alpha=0.5, edgecolor='b')\n",
    "plt.plot(np.linspace(-0.5, 1.5, 10000), kde(np.linspace(-0.5, 1.5, 10000)), color='r')\n",
    "plt.show()"
   ]
  },
  {
   "cell_type": "markdown",
   "id": "4326f148-f0ef-4659-8dad-c27a37310c58",
   "metadata": {},
   "source": [
    "**Analyze and Assess**\n",
    "\n",
    "The probability $P(Y \\ge 0.1)$ is estimated by the integral of the kernel density function on the interval $(0.1,\\infty)$. Use the function method `.integrate_box_1d()` to compute the integral."
   ]
  },
  {
   "cell_type": "code",
   "execution_count": 52,
   "id": "1ce7d77f-3ff8-4676-96b2-894a9df36261",
   "metadata": {},
   "outputs": [
    {
     "data": {
      "text/plain": [
       "0.7157180726509293"
      ]
     },
     "execution_count": 52,
     "metadata": {},
     "output_type": "execute_result"
    }
   ],
   "source": [
    "prob = kde.integrate_box_1d(0.1, np.inf) \n",
    "prob"
   ]
  },
  {
   "cell_type": "code",
   "execution_count": 53,
   "id": "c880f340",
   "metadata": {},
   "outputs": [
    {
     "data": {
      "text/plain": [
       "(array([0.04895017, 0.09790034, 0.07342526, 0.09790034, 0.26922594,\n",
       "        0.41607645, 0.44055153, 0.53845187, 0.75872764, 0.68530238,\n",
       "        0.75872764, 1.12585391, 1.07690374, 1.05242866, 1.150329  ,\n",
       "        1.49298019, 1.19927917, 1.22375426, 1.24822934, 1.19927917,\n",
       "        1.3216546 , 1.22375426, 0.95452832, 0.80767781, 0.95452832,\n",
       "        0.6608273 , 0.58740204, 0.53845187, 0.41607645, 0.26922594,\n",
       "        0.22027577, 0.46502662, 0.14685051, 0.22027577, 0.07342526,\n",
       "        0.09790034, 0.07342526, 0.09790034, 0.07342526, 0.02447509,\n",
       "        0.09790034, 0.        , 0.09790034, 0.04895017, 0.02447509,\n",
       "        0.        , 0.        , 0.        , 0.        , 0.02447509]),\n",
       " array([-0.44422255, -0.40336467, -0.36250679, -0.32164892, -0.28079104,\n",
       "        -0.23993317, -0.19907529, -0.15821741, -0.11735954, -0.07650166,\n",
       "        -0.03564378,  0.00521409,  0.04607197,  0.08692984,  0.12778772,\n",
       "         0.1686456 ,  0.20950347,  0.25036135,  0.29121923,  0.3320771 ,\n",
       "         0.37293498,  0.41379286,  0.45465073,  0.49550861,  0.53636648,\n",
       "         0.57722436,  0.61808224,  0.65894011,  0.69979799,  0.74065587,\n",
       "         0.78151374,  0.82237162,  0.86322949,  0.90408737,  0.94494525,\n",
       "         0.98580312,  1.026661  ,  1.06751888,  1.10837675,  1.14923463,\n",
       "         1.19009251,  1.23095038,  1.27180826,  1.31266613,  1.35352401,\n",
       "         1.39438189,  1.43523976,  1.47609764,  1.51695552,  1.55781339,\n",
       "         1.59867127]),\n",
       " <BarContainer object of 50 artists>)"
      ]
     },
     "execution_count": 53,
     "metadata": {},
     "output_type": "execute_result"
    },
    {
     "data": {
      "image/png": "[encoded data removed]",
      "text/plain": [
       "<Figure size 640x480 with 1 Axes>"
      ]
     },
     "metadata": {},
     "output_type": "display_data"
    }
   ],
   "source": [
    "sample = kde.resample(1000).flatten()\n",
    "plt.hist(sample, bins=50, density=True, alpha=0.5, edgecolor='blue')"
   ]
  },
  {
   "cell_type": "markdown",
   "id": "8119b56d-662f-4230-9d00-d80191b7eaa3",
   "metadata": {},
   "source": [
    "## Wind Power\n",
    "\n",
    "A [WindCube](https://www.vaisala.com/en/products/wind-energy-windcube) lidar machine measured wind speed and direction from May 1, 2021 to December 31, 2021 at [Keitahi Beach, Tonga](https://www.google.com/maps/place/Keitahi+Beach,+Tonga/data=!4m2!3m1!1s0x7193ca1db1b27803:0x5d76ac25e4c2403f?sa=X&ved=2ahUKEwjTvOC5lY2CAxXQGzQIHXBZCDwQ8gF6BAg-EAA&ved=2ahUKEwjTvOC5lY2CAxXQGzQIHXBZCDwQ8gF6BAhEEAE). The original dataset is available at [energydata.info](https://energydata.info/dataset/tonga-wind-measurement-data) and includes wind measurements at 10 minute intervals at several different heights from 40m to 200m. The dataset `wind_tonga.csv` is cleaned and includes data at 80m height. Create a mathematical model of wind power generated by a [General Electric 2.5](https://www.ge.com/renewableenergy/wind-energy/onshore-wind/2mw-platform) wind turbine at this site. In particular, create a function $P$ which computes the power output at the given wind speed $U$. Compute the total energy $E$ generated each day. Find the distribution of $E$ and estimate how often the total energy generated is over 10MWh."
   ]
  },
  {
   "cell_type": "markdown",
   "id": "54a6d6b0-011e-4d8e-84a5-3f8e826b6cba",
   "metadata": {},
   "source": [
    "**Problem Statement:**"
   ]
  },
  {
   "cell_type": "markdown",
   "id": "8c47cd0b-9075-4da4-8041-3565270b86e2",
   "metadata": {},
   "source": [
    "**Variables and Parameters:**"
   ]
  },
  {
   "cell_type": "markdown",
   "id": "c874c07d-77e7-44a5-81f8-fc6889bd64eb",
   "metadata": {},
   "source": [
    "**Assumptions and Constraints:**\n"
   ]
  },
  {
   "cell_type": "markdown",
   "id": "b27c947f-6fd9-4ff9-bda7-fbcf72d15930",
   "metadata": {},
   "source": [
    "**Build Solutions:**\n",
    "\n",
    "*Import Data*\n",
    "\n",
    "Import the dataset as a pandas dataframe `df` and look at the first and last 5 rows:"
   ]
  },
  {
   "cell_type": "code",
   "execution_count": null,
   "id": "55c53c61-2566-45d1-9fa8-4b632722eb6b",
   "metadata": {},
   "outputs": [],
   "source": []
  },
  {
   "cell_type": "markdown",
   "id": "05a9de3a-3c5b-41b8-9081-3a8c396cc7d5",
   "metadata": {},
   "source": [
    "*Power Function $P$*\n",
    "\n",
    "Use the data available at [wind-turbine-models.com](https://en.wind-turbine-models.com/turbines/641-ge-general-electric-ge-2.5-100) for GE 2.5-100 turbine:"
   ]
  },
  {
   "cell_type": "code",
   "execution_count": 11,
   "id": "72fffbe9-94ed-42f5-afea-e11eade2a4dc",
   "metadata": {
    "tags": []
   },
   "outputs": [
    {
     "data": {
      "image/png": "[encoded data removed]",
      "text/plain": [
       "<Figure size 1200x400 with 1 Axes>"
      ]
     },
     "metadata": {},
     "output_type": "display_data"
    }
   ],
   "source": [
    "speed = np.arange(0,25.5,0.5)\n",
    "power = np.hstack([[0,0,0,0,0,0,\n",
    "                    4.5,32.3,83.9,131.6,204.6,290.7,413.1,545.1,708.4,873.5,\n",
    "                    1067,1295.2,1514.2,1777.6,1985.2,2193.1,2283.7,2366.2,\n",
    "                    2458.4,2496.2,2503.2,2500.1,2510.7],\n",
    "                    2512*np.ones(22)])\n",
    "plt.figure(figsize=(12,4))\n",
    "plt.plot(speed,power,'.-'), plt.grid(True)\n",
    "plt.title('General Electric 2.5-120 Wind Turbine Power Curve')\n",
    "plt.xlabel('Wind Speed (m/s)'), plt.ylabel('Power (kW)')\n",
    "plt.show()"
   ]
  },
  {
   "cell_type": "markdown",
   "id": "51fb9d2c-6eab-4188-8430-d78e8736d3da",
   "metadata": {},
   "source": [
    "Use the data to create a functon $P(U)$:"
   ]
  },
  {
   "cell_type": "code",
   "execution_count": 12,
   "id": "405b2dad-9846-4dff-ba3d-ddd4b1e4a4c4",
   "metadata": {
    "tags": []
   },
   "outputs": [],
   "source": [
    "P = lambda x: np.interp(x,speed,power)"
   ]
  },
  {
   "cell_type": "code",
   "execution_count": 13,
   "id": "4757ccf3-954d-4eb8-9023-2da193d2f9aa",
   "metadata": {
    "tags": []
   },
   "outputs": [
    {
     "data": {
      "image/png": "[encoded data removed]",
      "text/plain": [
       "<Figure size 1200x400 with 1 Axes>"
      ]
     },
     "metadata": {},
     "output_type": "display_data"
    }
   ],
   "source": [
    "plt.figure(figsize=(12,4))\n",
    "plt.plot(speed,P(speed),c='C0')\n",
    "plt.plot(speed,power,'.',c='C3'), plt.grid(True)\n",
    "plt.title('General Electric 2.5-120 Wind Turbine Power Curve')\n",
    "plt.xlabel('Wind Speed (m/s)'), plt.ylabel('Power (kW)')\n",
    "plt.show()"
   ]
  },
  {
   "cell_type": "markdown",
   "id": "0f0b8e46-b04d-421a-bfca-2e26bb78e4e3",
   "metadata": {},
   "source": [
    "The function $P$ is defined by interpolating the data points in the power curve up to 25 m/s. Check if there are any values above the cut-out wind speed. In other words, find the maximum wind speed in the dataset."
   ]
  },
  {
   "cell_type": "code",
   "execution_count": null,
   "id": "d4507728-a66c-49b7-8b85-44552b852081",
   "metadata": {},
   "outputs": [],
   "source": []
  },
  {
   "cell_type": "markdown",
   "id": "af875904-e5cd-4e2b-9768-5b845750f115",
   "metadata": {},
   "source": [
    "*Compute Power*\n",
    "\n",
    "Compute the power by applying the function $P$ to the column `wind_speed` and create a new column in the dataframe for the power."
   ]
  },
  {
   "cell_type": "code",
   "execution_count": null,
   "id": "e4200925-3705-40c1-b209-9eaec996f2aa",
   "metadata": {},
   "outputs": [],
   "source": []
  },
  {
   "cell_type": "markdown",
   "id": "34b42c32-38ce-41e6-9b1c-0ffea8950538",
   "metadata": {},
   "source": [
    "Plot the histogram of wind power values."
   ]
  },
  {
   "cell_type": "code",
   "execution_count": null,
   "id": "68a375dc-2346-40aa-9da0-86c0859373ba",
   "metadata": {},
   "outputs": [],
   "source": []
  },
  {
   "cell_type": "markdown",
   "id": "a2ec6f1b-1c70-4b9c-9ce2-c0ea7aa42450",
   "metadata": {},
   "source": [
    "*Compute Energy*\n",
    "\n",
    "Each measurement is the average over a 10 minute period. Multiplying the power by 1/6 hours gives the energy generated in that 10 minute period in kWh. Compute the energy generated in each 10 minute interval and create a new column in the dataframe for the energy."
   ]
  },
  {
   "cell_type": "code",
   "execution_count": null,
   "id": "f1c457f8-82a6-4754-8033-5257ac44b1d2",
   "metadata": {},
   "outputs": [],
   "source": []
  },
  {
   "cell_type": "markdown",
   "id": "19e6fe99-4155-4920-a16c-08f1dd9a3099",
   "metadata": {},
   "source": [
    "Plot the histogram of energy values."
   ]
  },
  {
   "cell_type": "code",
   "execution_count": null,
   "id": "8844747f-023a-42e5-b7ef-76a782196e13",
   "metadata": {},
   "outputs": [],
   "source": []
  },
  {
   "cell_type": "markdown",
   "id": "00a3ac58-ce19-4c11-92ed-d9adf76bd319",
   "metadata": {},
   "source": [
    "**Analyze and Assess:**\n",
    "\n",
    "The distribution of daily energy generation $E$ is a bit different from other distributions. Since the power is bounded below by 0 and above by 2.512 MW x 24 hours =  60.288 MWh and the fact that there are in fact days where the energy is equal to 0 or 60 MW the distribuution, the probability density functions $f(x)$ is non-zero only when $0 < x < 60.288$. A kernel density function with gaussian kernel does not fit well even with a small bandwidth. Use the histogram bins and values instead to construct a kernel density function and estimate the probability that the energy generated in a day in over 10MWh."
   ]
  },
  {
   "cell_type": "code",
   "execution_count": null,
   "id": "3098c0fc-fa14-480b-8bee-09269ad871e4",
   "metadata": {},
   "outputs": [],
   "source": []
  }
 ],
 "metadata": {
  "kernelspec": {
   "display_name": "cpsc330",
   "language": "python",
   "name": "python3"
  },
  "language_info": {
   "codemirror_mode": {
    "name": "ipython",
    "version": 3
   },
   "file_extension": ".py",
   "mimetype": "text/x-python",
   "name": "python",
   "nbconvert_exporter": "python",
   "pygments_lexer": "ipython3",
   "version": "3.12.0"
  }
 },
 "nbformat": 4,
 "nbformat_minor": 5
}
