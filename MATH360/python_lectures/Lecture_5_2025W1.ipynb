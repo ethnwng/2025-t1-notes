{
 "cells": [
  {
   "cell_type": "markdown",
   "id": "a06ca865-c5b2-4475-a535-f3608b9d9ddf",
   "metadata": {},
   "source": [
    "# Deterministic Models: Systems of Differential Equations"
   ]
  },
  {
   "cell_type": "code",
   "execution_count": 1,
   "id": "ab0a2b4a-8b83-4985-9dbd-f78198b449d3",
   "metadata": {},
   "outputs": [
    {
     "name": "stdout",
     "output_type": "stream",
     "text": [
      "packages imported\n"
     ]
    }
   ],
   "source": [
    "import numpy as np\n",
    "import scipy.integrate as spi\n",
    "import scipy.linalg as la\n",
    "import matplotlib.pyplot as plt\n",
    "\n",
    "print(\"packages imported\")"
   ]
  },
  {
   "cell_type": "markdown",
   "id": "5df274a5-28c9-45ef-9ae9-f33d3845962e",
   "metadata": {},
   "source": [
    "## Learning Goals\n",
    "\n",
    "* Classify systems of differential equations: order, dimension, linear, autonomous\n",
    "* Transform higher order systems of differential equations into first order systems\n",
    "* Compute and visualize numerical solutions of systems of differential equations\n",
    "* Compute and classify equilibrium solutions of autonomous differential equations"
   ]
  },
  {
   "cell_type": "markdown",
   "id": "51ed225b-6889-4b68-9b44-910002f0dbff",
   "metadata": {},
   "source": [
    "## Prelecture Readings\n",
    "\n",
    "* [MATH 360 > Differential Equations > Systems of Equations](https://ubcmath.github.io/MATH360/deterministic/differential/systems.html)\n",
    "* [Mathematical Python > Differential Equations > Systems of Equations](https://patrickwalls.github.io/mathematicalpython/differential-equations/systems/)"
   ]
  },
  {
   "cell_type": "markdown",
   "id": "6bf7b5f3-763b-47f7-8c0b-6326790f973a",
   "metadata": {},
   "source": [
    "## Systems of First Order Differental Equations\n",
    "\n",
    "Write the following system as a first order system:\n",
    "\n",
    "\\begin{align*}\n",
    "m_1 x_1'' &= k(x_2 - x_1) \\\\\n",
    "m_2 x_2'' &= -k(x_2 - x_1)\n",
    "\\end{align*}\n",
    "\n",
    "The system is a model of two masses attached by a spring. See [Notes of Diffy Qs: Example 3.1.3](https://www.jirka.org/diffyqs/html/sec_introtosys.html)."
   ]
  },
  {
   "cell_type": "code",
   "execution_count": null,
   "id": "c603bcdb-5005-41e4-8b6f-facbd166d4f3",
   "metadata": {},
   "outputs": [],
   "source": []
  },
  {
   "cell_type": "markdown",
   "id": "9d909b0b-dbb3-4e28-9277-367ba65f4604",
   "metadata": {},
   "source": [
    "Write the following vector equation as a first order system:\n",
    "\n",
    "$$\n",
    "\\frac{d^2 \\mathbf{x}}{dt^2} = -\\frac{\\mathbf{x}}{\\| \\mathbf{x} \\|^3}\n",
    "$$\n",
    "\n",
    "where $\\mathbf{x}(t) = (x_1(t),x_2(t))$. This is the equation of motion for planetary motion. See [MATH360 > Objects in Motion > Planetary Motion](https://ubcmath.github.io/MATH360/deterministic/motion/orbits.html)."
   ]
  },
  {
   "cell_type": "code",
   "execution_count": null,
   "id": "a306a20b-3b10-44cd-97b3-56dff9fa3072",
   "metadata": {},
   "outputs": [],
   "source": []
  },
  {
   "cell_type": "markdown",
   "id": "4f61da4e-c215-462b-b827-bcbde4d81ab3",
   "metadata": {},
   "source": [
    "Write the second order equation as a first order system:\n",
    "\n",
    "$$\n",
    "t^2 y'' + t y' + y = 0\n",
    "$$\n",
    "\n",
    "This is a called a Cauchy-Euler equations. See [Wikipedia: Cauchy-Euler equation](https://en.wikipedia.org/wiki/Cauchy–Euler_equation)."
   ]
  },
  {
   "cell_type": "code",
   "execution_count": null,
   "id": "75dae652-61e6-4f36-a0e2-60d2b3bf1768",
   "metadata": {},
   "outputs": [],
   "source": []
  },
  {
   "cell_type": "markdown",
   "id": "2a8487b5-a4b2-4317-96fb-2a91971ee44e",
   "metadata": {},
   "source": [
    "## `scipy.integrate.odeint`"
   ]
  },
  {
   "cell_type": "markdown",
   "id": "2564250c-27ad-4745-8b1a-206a2ce38476",
   "metadata": {},
   "source": [
    "Compute solutions of the system for different initial values:\n",
    "\n",
    "\\begin{align*}\n",
    "m_1 x_1'' &= k(x_2 - x_1) \\\\\n",
    "m_2 x_2'' &= -k(x_2 - x_1)\n",
    "\\end{align*}"
   ]
  },
  {
   "cell_type": "code",
   "execution_count": 9,
   "id": "51bcfdce-4e32-487f-a633-8a36ba35931f",
   "metadata": {},
   "outputs": [
    {
     "data": {
      "image/png": "[encoded data removed]",
      "text/plain": [
       "<Figure size 640x480 with 1 Axes>"
      ]
     },
     "metadata": {},
     "output_type": "display_data"
    }
   ],
   "source": [
    "k = 1\n",
    "m1 = 1\n",
    "m2 = 2\n",
    "\n",
    "# components of the u vector will be: u[0] = x1, u[1] = x1', u[2] = x2, u[3] = x2'\n",
    "\n",
    "def f(u, t):\n",
    "    dudt = np.zeros(4) # create a vector of zeros to be filled out\n",
    "    dudt[0] = u[1]\n",
    "    dudt[1] = k/m1 * (u[2] - u[0])\n",
    "    dudt[2] = u[3]\n",
    "    dudt[3] = -k/m2 * (u[2] - u[0])\n",
    "    return dudt\n",
    "\n",
    "t = np.linspace(0, 20, 500) # time points where solution is computed\n",
    "u0 = [1, 2, 3, 1] # initial condition: \n",
    "u = spi.odeint(f,u0,t)\n",
    "\n",
    "plt.plot(t, u[:, 0], 'r')\n",
    "plt.plot(t,u[:, 2], 'b')\n",
    "plt.xlabel('time')\n",
    "plt.ylabel('solution')\n",
    "plt.legend(['x1', 'x2'])\n",
    "plt.show()\n"
   ]
  },
  {
   "cell_type": "markdown",
   "id": "5aec7c46-9139-4fb6-a2bd-42e1c2cb1670",
   "metadata": {},
   "source": [
    "Compute solutions of the following system for different initial values:\n",
    "\n",
    "$$\n",
    "\\frac{d^2 \\mathbf{x}}{dt^2} = -\\frac{\\mathbf{x}}{\\| \\mathbf{x} \\|^3} \n",
    "$$"
   ]
  },
  {
   "cell_type": "code",
   "execution_count": null,
   "id": "87d327b0-d641-46ec-bfef-c685c6c2a54b",
   "metadata": {},
   "outputs": [],
   "source": [
    "k = 1\n",
    "m1 = 1\n",
    "m2 = 2\n",
    "\n",
    "# components of the u vector will be: u[0] = x1, u[1] = x1', u[2] = x2, u[3] = x2'\n",
    "\n",
    "def f(u, t):\n",
    "    dudt = np.zeros(4) # create a vector of zeros to be filled out\n",
    "    dudt[0] = u[1]\n",
    "    dudt[1] = k/m1 * (u[2] - u[0])\n",
    "    dudt[2] = u[3]\n",
    "    dudt[3] = -k/m2 * (u[2] - u[0])\n",
    "    return dudt\n",
    "\n",
    "t = np.linspace(0, 20, 500) # time points where solution is computed\n",
    "u0 = [1, 2, 3, 1] # initial condition: \n",
    "u = spi.odeint(f,u0,t)\n",
    "\n",
    "plt.plot(t, u[:, 0], 'r')\n",
    "plt.plot(t,u[:, 2], 'b')\n",
    "plt.xlabel('time')\n",
    "plt.ylabel('solution')\n",
    "plt.legend(['x1', 'x2'])\n",
    "plt.show()\n"
   ]
  },
  {
   "cell_type": "markdown",
   "id": "216fc84a-587f-45f1-95d2-3408deca627e",
   "metadata": {},
   "source": [
    "Compute the unique solution of the second order equation:\n",
    "\n",
    "$$\n",
    "t^2 y'' + t y' + y = 0 \\ , \\ \\ y(1) = 0 \\ , \\ \\ y'(1) = 1\n",
    "$$"
   ]
  },
  {
   "cell_type": "code",
   "execution_count": 11,
   "id": "97c21fa8-23e2-47bf-8eab-998144dc383e",
   "metadata": {},
   "outputs": [
    {
     "name": "stderr",
     "output_type": "stream",
     "text": [
      "/var/folders/8b/8xv60sm9601dqdzch7jd5lsr0000gn/T/ipykernel_89787/3979331679.py:15: ODEintWarning: Excess work done on this call (perhaps wrong Dfun type). Run with full_output = 1 to get quantitative information.\n",
      "  u = spi.odeint(f,u0,t)\n"
     ]
    },
    {
     "data": {
      "image/png": "[encoded data removed]",
      "text/plain": [
       "<Figure size 640x480 with 1 Axes>"
      ]
     },
     "metadata": {},
     "output_type": "display_data"
    }
   ],
   "source": [
    "# components of the u vector will be: u[0] = x1, u[1] = x1', u[2] = x2, u[3] = x2'\n",
    "\n",
    "def f(u, t):\n",
    "    dudt = np.zeros(4) # create a vector of zeros to be filled out\n",
    "    rho = -1/(u[0]**2 + u[2]**2)**(3/2)\n",
    "\n",
    "    dudt[0] = u[1]\n",
    "    dudt[1] = rho * u[0] \n",
    "    dudt[2] = u[3]\n",
    "    dudt[3] = rho * u[2]\n",
    "    return dudt\n",
    "\n",
    "t = np.linspace(0, 20, 500) # time points where solution is computed\n",
    "u0 = [1., 0., 0., 0.] # initial condition: \n",
    "u = spi.odeint(f,u0,t)\n",
    "\n",
    "plt.plot(t, u[:, 0], 'r')\n",
    "plt.plot(t,u[:, 2], 'b')\n",
    "plt.xlabel('time')\n",
    "plt.ylabel('solution')\n",
    "plt.legend(['x1', 'x2'])\n",
    "plt.show()\n"
   ]
  },
  {
   "cell_type": "markdown",
   "id": "941ce0f2-b317-453c-a46f-5dc6a8e71e40",
   "metadata": {},
   "source": [
    "Compute solutions of the [Duffing equation](https://en.wikipedia.org/wiki/Duffing_equation):\n",
    "\n",
    "$$\n",
    "x'' + \\delta x' + \\alpha x + \\beta x^3 = \\gamma \\cos(\\omega t) \\ , \\ \\ x(0)=x'(0)=0\n",
    "$$"
   ]
  },
  {
   "cell_type": "code",
   "execution_count": null,
   "id": "c203e047-d22e-4c15-a2d2-3b2fa5e9b6e6",
   "metadata": {},
   "outputs": [],
   "source": []
  },
  {
   "cell_type": "markdown",
   "id": "cfba7c8c-de0c-4c3c-895e-3320a2343b5f",
   "metadata": {},
   "source": [
    "Compute solutions of the [Van der Pol equation](https://en.wikipedia.org/wiki/Van_der_Pol_oscillator) for different initial values:\n",
    "\n",
    "$$\n",
    "x'' - \\mu(1 - x^2)x' + x = 0\n",
    "$$"
   ]
  },
  {
   "cell_type": "code",
   "execution_count": null,
   "id": "fad2f690-adcc-494f-99a2-3945afaf7e5b",
   "metadata": {},
   "outputs": [],
   "source": []
  },
  {
   "cell_type": "markdown",
   "id": "9ea2023e-80ad-4c13-bf93-e5524a1e2800",
   "metadata": {},
   "source": [
    "## Linear Stability Analysis"
   ]
  },
  {
   "cell_type": "markdown",
   "id": "f5f3bbed-46aa-4db8-8160-eb8f02b3d16b",
   "metadata": {},
   "source": [
    "Consider the system of differential equations:\n",
    "\n",
    "\\begin{align*}\n",
    "x' &= 1 - y^2 \\\\\n",
    "y' &= x - y\n",
    "\\end{align*}\n",
    "\n",
    "* Plot trajectories $(x(t),y(t))$ for different initial values $x(0)$ and $y(0)$.\n",
    "* Find all values $\\alpha$ such that if $x(0) = y(0) = \\alpha$ then the corresponding solution satisfies $x(t) \\to 1$ and $y(t) \\to 1$ as $t \\to \\infty$.\n",
    "* Find all values $\\alpha$ such that if $x(0) = y(0) = \\alpha$ then the corresponding solution satisfies $x(t) \\to -1$ and $y(t) \\to -1$ as $t \\to \\infty$."
   ]
  },
  {
   "cell_type": "code",
   "execution_count": null,
   "id": "ae350097-84dc-46fc-8ad7-60fb2396f245",
   "metadata": {},
   "outputs": [],
   "source": []
  },
  {
   "cell_type": "markdown",
   "id": "f8491a56-ce17-4bd7-83f6-414425a6024c",
   "metadata": {},
   "source": [
    "Consider the system of differential equations:\n",
    "\n",
    "\\begin{align*}\n",
    "x' &= xy + 2y + z^2 \\\\\n",
    "y' &= x - y \\\\\n",
    "z' &= (x - y)^2 - 3z\n",
    "\\end{align*}\n",
    "\n",
    "* Find and classify the critical points of the system.\n",
    "* Plot trajectories for different initial values $x(0)$, $y(0)$ and $z(0)$."
   ]
  },
  {
   "cell_type": "code",
   "execution_count": null,
   "id": "7a64e8f6-9e2b-4fb1-8163-c52996c17d96",
   "metadata": {},
   "outputs": [],
   "source": []
  }
 ],
 "metadata": {
  "kernelspec": {
   "display_name": "cpsc330",
   "language": "python",
   "name": "python3"
  },
  "language_info": {
   "codemirror_mode": {
    "name": "ipython",
    "version": 3
   },
   "file_extension": ".py",
   "mimetype": "text/x-python",
   "name": "python",
   "nbconvert_exporter": "python",
   "pygments_lexer": "ipython3",
   "version": "3.12.0"
  }
 },
 "nbformat": 4,
 "nbformat_minor": 5
}
