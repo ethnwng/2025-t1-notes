{
 "cells": [
  {
   "cell_type": "markdown",
   "id": "754a573d-ca63-4b5d-a809-fde2153e79ef",
   "metadata": {
    "tags": []
   },
   "source": [
    "# Deterministic Models: Nondimensionalization"
   ]
  },
  {
   "cell_type": "code",
   "execution_count": 1,
   "id": "f71c1418-c303-4275-92e8-fa8ba1c8e3ed",
   "metadata": {},
   "outputs": [
    {
     "name": "stdout",
     "output_type": "stream",
     "text": [
      "packages imported\n"
     ]
    }
   ],
   "source": [
    "import numpy as np\n",
    "import scipy.integrate as spi\n",
    "import matplotlib.pyplot as plt\n",
    "\n",
    "print(\"packages imported\")"
   ]
  },
  {
   "cell_type": "markdown",
   "id": "e2e095f3-7568-442c-8b19-2cc98fd9c739",
   "metadata": {
    "tags": []
   },
   "source": [
    "## Learning Goals\n",
    "\n",
    "* Identify dimensions and units of variables and parameters in a mathematical model\n",
    "* Apply nondimensionalization process to a mathematical model\n",
    "* Interpret dimensionless parameters in a nondimensionalized mathematical model"
   ]
  },
  {
   "cell_type": "markdown",
   "id": "447b8ecd-e88e-40cf-bedb-91969019552f",
   "metadata": {},
   "source": [
    "## Prelecture Readings\n",
    "\n",
    "* [MATH 360 > Nondimensionalization](http://ubcmath.github.io/MATH360/deterministic/nondimensionalization)"
   ]
  },
  {
   "cell_type": "markdown",
   "id": "1e7990c7-74c9-4136-a98c-3f72910df1db",
   "metadata": {
    "tags": []
   },
   "source": [
    "## Dimensions and Units"
   ]
  },
  {
   "cell_type": "markdown",
   "id": "73ca1437-eb54-40d0-9d42-388f7cb0ee6d",
   "metadata": {},
   "source": [
    "The drag equation is given by\n",
    "\n",
    "$$\n",
    "F = \\frac{1}{2} \\rho v^2 A c_d\n",
    "$$\n",
    "\n",
    "where:\n",
    "\n",
    "* $F$ is the force of drag of fluid flowing around an object\n",
    "* $\\rho$ is the density of the fluid\n",
    "* $v$ is the velocity of the fluid\n",
    "* $A$ is the cross-sectional area of the object perpendicular to the fluid flow\n",
    "* $c_d$ is the drag coefficient\n",
    "\n",
    "Determine the dimensions of all quantities in the drag equation such that the equation is **dimensionally homogeneous**."
   ]
  },
  {
   "cell_type": "code",
   "execution_count": null,
   "id": "e7a131dd-e68e-4c1c-b5cf-3f744154f571",
   "metadata": {},
   "outputs": [],
   "source": []
  },
  {
   "cell_type": "markdown",
   "id": "d579382d-60d2-40df-a5fd-9fec8b776f1b",
   "metadata": {},
   "source": [
    "The equation for the deflection $v(x)$ of a beam (as a function of position $x$) under a distrubted load is given by\n",
    "\n",
    "$$\n",
    "EI \\frac{d^4v}{dx^4} = q\n",
    "$$\n",
    "\n",
    "where:\n",
    "\n",
    "* $E$ is the elastic modulus\n",
    "* $I = \\int_A y^2 dA$ is the moment of inertia of the cross-section of the beam\n",
    "* $q$ is the distributed load (ie. force per unit length applied to the beam)\n",
    "\n",
    "Determine the dimensions of all quantities in the deflection equation such that the equation is **dimensionally homogeneous**."
   ]
  },
  {
   "cell_type": "code",
   "execution_count": null,
   "id": "7bb570ec-35f8-4084-835e-6983a3428dc0",
   "metadata": {},
   "outputs": [],
   "source": []
  },
  {
   "cell_type": "markdown",
   "id": "b05be301-fe55-48ed-8e08-bb6244c09301",
   "metadata": {},
   "source": [
    "The 1-dimensional heat equation is given by\n",
    "\n",
    "$$\n",
    "\\frac{\\partial u}{\\partial t} = \\alpha \\frac{\\partial^2 u}{\\partial x^2}\n",
    "$$\n",
    "\n",
    "where:\n",
    "\n",
    "* $u(x,t)$ is temperature at position $x$ and time $t$\n",
    "* $\\alpha$ is conductivity\n",
    "\n",
    "Determine the dimensions of all quantities in the heat equation such that the equation is **dimensionally homogeneous**."
   ]
  },
  {
   "cell_type": "code",
   "execution_count": null,
   "id": "3ef5fe2b-e4f0-47b5-a646-ec991a99ccbf",
   "metadata": {},
   "outputs": [],
   "source": []
  },
  {
   "cell_type": "markdown",
   "id": "722fa614-0721-48d9-9e82-f770e8686c18",
   "metadata": {
    "tags": []
   },
   "source": [
    "## Nondimensionalization and Scaling"
   ]
  },
  {
   "cell_type": "markdown",
   "id": "d10da526-42bd-483d-97ca-1791319b3ed5",
   "metadata": {},
   "source": [
    "Consider the mass-spring-damper equation with sinusoidal external forcing:\n",
    "\n",
    "$$\n",
    "m \\frac{d^2x}{dt^2} + c \\frac{dx}{dt} + k x = F_0 \\cos(\\omega t) \\ , \\ \\ x(0) = \\frac{dx}{dt}(0) = 0\n",
    "$$\n",
    "\n",
    "* Determine the dimensions of all variables and parameters.\n",
    "* Apply the nondimensionalization process and interpret dimensionless parameters.\n",
    "* Use Python to simulate the nondimensionalized system.\n",
    "\n",
    "**Note:** There is more than one way to choose $[t]$ and $[x]$. Make the choice that makes sense to you and try to justify your choice. "
   ]
  },
  {
   "cell_type": "code",
   "execution_count": null,
   "id": "939a53be-4a8e-4db6-b1fc-47099fa1b754",
   "metadata": {},
   "outputs": [],
   "source": []
  },
  {
   "cell_type": "markdown",
   "id": "3c4fabf3-e330-441f-822e-ccf33d13fdf1",
   "metadata": {},
   "source": [
    "Consider the coupled mass spring system:\n",
    "\n",
    "\\begin{align*}\n",
    "m_1 x_1'' &= k(x_2 - x_1) \\\\\n",
    "m_2 x_2'' &= -k(x_2 - x_1) \\\\\n",
    "x_1(0) &= x_1'(0) = 0 \\\\\n",
    "x_2(0) &= d \\ , \\ \\ x_2'(0) = v\n",
    "\\end{align*}\n",
    "\n",
    "* Determine the dimensions of all variables and parameters.\n",
    "* Apply the nondimensionalization process and interpret dimensionless parameters.\n",
    "* Use Python to simulate the nondimensionalized system."
   ]
  },
  {
   "cell_type": "code",
   "execution_count": null,
   "id": "1a087ded-dd04-46ac-be22-6193b0677ccb",
   "metadata": {},
   "outputs": [],
   "source": []
  },
  {
   "cell_type": "markdown",
   "id": "1bbf76de-3bf0-4805-a0dc-bf7bb48222ed",
   "metadata": {},
   "source": [
    "A model for the spread of infectious diseases is the [SIR model](https://en.wikipedia.org/wiki/Compartmental_models_in_epidemiology#The_SIR_model):\n",
    "\n",
    "\\begin{align*}\n",
    "\\frac{dS}{dt} &= -\\frac{\\beta}{N} IS \\\\\n",
    "\\frac{dI}{dt} &= \\frac{\\beta}{N} IS - \\gamma I \\\\\n",
    "\\frac{dR}{dt} &= \\gamma I\n",
    "\\end{align*}\n",
    "\n",
    "where $S$ is the susceptible population, $I$ is the infected population, $R$ is the recovered population, $N$ is the total population, and $\\beta$ and $\\gamma$ are parameters. The model assumes that the total population $N = S+I+R$ is constant and that recovered patients cannot be reinfected.\n",
    "\n",
    "* Determine the dimensions of all variables and parameters.\n",
    "* Apply the nondimensionalization process and interpret dimensionless parameters.\n",
    "* Use Python to simulate the nondimensionalized system."
   ]
  },
  {
   "cell_type": "code",
   "execution_count": null,
   "id": "19093f45-b57f-4fc2-94b1-938723c7cc0b",
   "metadata": {},
   "outputs": [],
   "source": []
  }
 ],
 "metadata": {
  "kernelspec": {
   "display_name": "cpsc330",
   "language": "python",
   "name": "python3"
  },
  "language_info": {
   "codemirror_mode": {
    "name": "ipython",
    "version": 3
   },
   "file_extension": ".py",
   "mimetype": "text/x-python",
   "name": "python",
   "nbconvert_exporter": "python",
   "pygments_lexer": "ipython3",
   "version": "3.12.0"
  }
 },
 "nbformat": 4,
 "nbformat_minor": 5
}
