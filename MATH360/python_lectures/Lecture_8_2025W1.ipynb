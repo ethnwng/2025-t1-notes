{
 "cells": [
  {
   "cell_type": "markdown",
   "id": "af97e125-2baf-4251-9ad3-87d36a769b85",
   "metadata": {},
   "source": [
    "# Deterministic Models: Energy Balance Equation"
   ]
  },
  {
   "cell_type": "code",
   "execution_count": 1,
   "id": "e975295e-d532-4191-88c5-220b13ad137d",
   "metadata": {},
   "outputs": [
    {
     "name": "stdout",
     "output_type": "stream",
     "text": [
      "packages imported\n"
     ]
    }
   ],
   "source": [
    "import numpy as np\n",
    "import matplotlib.pyplot as plt\n",
    "import scipy.integrate as spi\n",
    "\n",
    "print(\"packages imported\")"
   ]
  },
  {
   "cell_type": "markdown",
   "id": "14359f1c-70bd-4333-a461-a7fba5e278cd",
   "metadata": {},
   "source": [
    "## Learning Goals\n",
    "\n",
    "* Apply the energy balance equation to global climate models\n",
    "* Describe, in general terms, basic concepts in climate science such as heat capacity, thermal radiation, solar constant, albedo, black body, Stefan-Boltzmann law, and greenhouse effect."
   ]
  },
  {
   "cell_type": "markdown",
   "id": "57396340-f3f6-4815-9733-8884dcf0ff80",
   "metadata": {},
   "source": [
    "## Prereading Activities\n",
    "\n",
    "* Chapter 2: Earth's Energy Budget (in [Mathematics and Climate](https://epubs.siam.org/doi/10.1137/1.9781611972610) by Kaper and Engler)\n",
    "* [MATH 360 > Heat Transfer](https://ubcmath.github.io/MATH360/deterministic/heat/index.html) including:\n",
    "  * [Energy Balance](https://ubcmath.github.io/MATH360/deterministic/heat/balance.html)\n",
    "  * [Thermal Radiation](https://ubcmath.github.io/MATH360/deterministic/heat/radiation.html)\n",
    "  * [Global Energy Balance](https://ubcmath.github.io/MATH360/deterministic/heat/climate.html)"
   ]
  },
  {
   "cell_type": "markdown",
   "id": "8209f38d-0162-4611-8957-b0b56da465a8",
   "metadata": {},
   "source": [
    "## Temperature Dependent Albedo"
   ]
  },
  {
   "cell_type": "markdown",
   "id": "d7eefac3-9fcd-4246-88d1-be2d4c9c7aa9",
   "metadata": {},
   "source": [
    "The Earth's albedo depends on how much snow and ice cover the Earth. Global temperature below freezing would increase the amount of snow and ice which reflect more solar radiation therefore let us assume that the albedo varies with temperature according to the function:\n",
    "\n",
    "$$\n",
    "\\alpha = \\left\\{ \\begin{array}{ccc} 0.6 & , & T \\leq 255 \\\\ 0.6 - (0.4/35)(T - 255) & , & 255 \\leq T \\leq 290 \\\\ 0.2 & , & T \\geq 290 \\end{array} \\right.\n",
    "$$\n",
    "\n",
    "Construct a mathematical model of global temperature with albedo $\\alpha(T)$, apply the nondimensionalization procedure, visualize the results, and classify the steady states."
   ]
  },
  {
   "cell_type": "markdown",
   "id": "6808d1a7-52e4-4080-8261-610fa83bfda4",
   "metadata": {},
   "source": [
    "#### Problem Statement\n",
    "\n",
    "options:\n",
    "1. Model the global temperature change with the albedo with respect to time\n",
    "2. Construct an energy balance model of the earth\n",
    "\n",
    "#### Variables & Parameters\n",
    "Temperature - T\n",
    "\n",
    "\n",
    "\n",
    "#### Assumptions & Constraints\n",
    "- The earth and atmosphere are considered on object with uniform temperature and heat capacity\n",
    "- The earth is a black body (meaning u can use botlzmans equation)\n",
    "- Only incoming radiation is from the sun\n",
    "- Albedo depends on temp\n",
    "- Assume earth is a sphere\n"
   ]
  },
  {
   "cell_type": "markdown",
   "id": "9261175b-d126-4f44-8e0b-1552f770c373",
   "metadata": {},
   "source": [
    "## Budyko's Model\n",
    "\n",
    "Observational data suggests that the Earth does not emit energy exactly like a black body. Budyko's model was proposed in the 1960s based on satelitte data and takes the form of a linear model\n",
    "\n",
    "$$\n",
    "Q_{out} = 4 \\pi R^2 (A + BT)\n",
    "$$\n",
    "\n",
    "where $R$ is the radius of the Earth, $A$ has dimensions M T<sup>-3</sup> (and units $W/m^2$) and $B$ has dimensions M T<sup>-3</sup> $\\Theta$<sup>-1</sup> (and units $W/(m^2 K)$). Use Budyko's model with the temperature dependent albedo in the previous example to constuct a mathematical model of global temperature. How does the model change?"
   ]
  },
  {
   "cell_type": "code",
   "execution_count": null,
   "id": "1a981360-508e-43d2-9385-760dcc99ac45",
   "metadata": {},
   "outputs": [],
   "source": []
  }
 ],
 "metadata": {
  "kernelspec": {
   "display_name": "Python 3 (ipykernel)",
   "language": "python",
   "name": "python3"
  },
  "language_info": {
   "codemirror_mode": {
    "name": "ipython",
    "version": 3
   },
   "file_extension": ".py",
   "mimetype": "text/x-python",
   "name": "python",
   "nbconvert_exporter": "python",
   "pygments_lexer": "ipython3",
   "version": "3.13.5"
  }
 },
 "nbformat": 4,
 "nbformat_minor": 5
}
